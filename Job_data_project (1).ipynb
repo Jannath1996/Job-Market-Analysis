{
  "nbformat": 4,
  "nbformat_minor": 0,
  "metadata": {
    "colab": {
      "provenance": []
    },
    "kernelspec": {
      "name": "python3",
      "display_name": "Python 3"
    },
    "language_info": {
      "name": "python"
    }
  },
  "cells": [
    {
      "cell_type": "markdown",
      "source": [
        "# **Job Market Trends - Data Analyst Portfolio Project**\n",
        "\n",
        " **By Jannath Syed**"
      ],
      "metadata": {
        "id": "_wG-TON5-T-2"
      }
    },
    {
      "cell_type": "code",
      "execution_count": 13,
      "metadata": {
        "id": "7rO_Z3tcEx2l",
        "outputId": "28b7ae50-3bca-4bbe-f56d-5a66c067a8ba",
        "colab": {
          "base_uri": "https://localhost:8080/",
          "height": 206
        }
      },
      "outputs": [
        {
          "output_type": "execute_result",
          "data": {
            "text/plain": [
              "                                           job_title  \\\n",
              "0               IT Support Technician Job in Madison   \n",
              "1            Business Reporter/Editor Job in Madison   \n",
              "2  Johnson & Johnson Family of Companies Job Appl...   \n",
              "3                    Engineer - Quality Job in Dixon   \n",
              "4       Shift Supervisor - Part-Time Job in Camphill   \n",
              "\n",
              "                                            location salary  \\\n",
              "0                                  Madison, WI 53702    NaN   \n",
              "1                                  Madison, WI 53708    NaN   \n",
              "2  DePuy Synthes Companies is a member of Johnson...    NaN   \n",
              "3                                          Dixon, CA    NaN   \n",
              "4                                       Camphill, PA    NaN   \n",
              "\n",
              "                       sector  \n",
              "0     IT/Software Development  \n",
              "1                         NaN  \n",
              "2                         NaN  \n",
              "3   Experienced (Non-Manager)  \n",
              "4  Project/Program Management  "
            ],
            "text/html": [
              "\n",
              "  <div id=\"df-c4975837-ca0e-4903-9232-d596883027b2\" class=\"colab-df-container\">\n",
              "    <div>\n",
              "<style scoped>\n",
              "    .dataframe tbody tr th:only-of-type {\n",
              "        vertical-align: middle;\n",
              "    }\n",
              "\n",
              "    .dataframe tbody tr th {\n",
              "        vertical-align: top;\n",
              "    }\n",
              "\n",
              "    .dataframe thead th {\n",
              "        text-align: right;\n",
              "    }\n",
              "</style>\n",
              "<table border=\"1\" class=\"dataframe\">\n",
              "  <thead>\n",
              "    <tr style=\"text-align: right;\">\n",
              "      <th></th>\n",
              "      <th>job_title</th>\n",
              "      <th>location</th>\n",
              "      <th>salary</th>\n",
              "      <th>sector</th>\n",
              "    </tr>\n",
              "  </thead>\n",
              "  <tbody>\n",
              "    <tr>\n",
              "      <th>0</th>\n",
              "      <td>IT Support Technician Job in Madison</td>\n",
              "      <td>Madison, WI 53702</td>\n",
              "      <td>NaN</td>\n",
              "      <td>IT/Software Development</td>\n",
              "    </tr>\n",
              "    <tr>\n",
              "      <th>1</th>\n",
              "      <td>Business Reporter/Editor Job in Madison</td>\n",
              "      <td>Madison, WI 53708</td>\n",
              "      <td>NaN</td>\n",
              "      <td>NaN</td>\n",
              "    </tr>\n",
              "    <tr>\n",
              "      <th>2</th>\n",
              "      <td>Johnson &amp; Johnson Family of Companies Job Appl...</td>\n",
              "      <td>DePuy Synthes Companies is a member of Johnson...</td>\n",
              "      <td>NaN</td>\n",
              "      <td>NaN</td>\n",
              "    </tr>\n",
              "    <tr>\n",
              "      <th>3</th>\n",
              "      <td>Engineer - Quality Job in Dixon</td>\n",
              "      <td>Dixon, CA</td>\n",
              "      <td>NaN</td>\n",
              "      <td>Experienced (Non-Manager)</td>\n",
              "    </tr>\n",
              "    <tr>\n",
              "      <th>4</th>\n",
              "      <td>Shift Supervisor - Part-Time Job in Camphill</td>\n",
              "      <td>Camphill, PA</td>\n",
              "      <td>NaN</td>\n",
              "      <td>Project/Program Management</td>\n",
              "    </tr>\n",
              "  </tbody>\n",
              "</table>\n",
              "</div>\n",
              "    <div class=\"colab-df-buttons\">\n",
              "\n",
              "  <div class=\"colab-df-container\">\n",
              "    <button class=\"colab-df-convert\" onclick=\"convertToInteractive('df-c4975837-ca0e-4903-9232-d596883027b2')\"\n",
              "            title=\"Convert this dataframe to an interactive table.\"\n",
              "            style=\"display:none;\">\n",
              "\n",
              "  <svg xmlns=\"http://www.w3.org/2000/svg\" height=\"24px\" viewBox=\"0 -960 960 960\">\n",
              "    <path d=\"M120-120v-720h720v720H120Zm60-500h600v-160H180v160Zm220 220h160v-160H400v160Zm0 220h160v-160H400v160ZM180-400h160v-160H180v160Zm440 0h160v-160H620v160ZM180-180h160v-160H180v160Zm440 0h160v-160H620v160Z\"/>\n",
              "  </svg>\n",
              "    </button>\n",
              "\n",
              "  <style>\n",
              "    .colab-df-container {\n",
              "      display:flex;\n",
              "      gap: 12px;\n",
              "    }\n",
              "\n",
              "    .colab-df-convert {\n",
              "      background-color: #E8F0FE;\n",
              "      border: none;\n",
              "      border-radius: 50%;\n",
              "      cursor: pointer;\n",
              "      display: none;\n",
              "      fill: #1967D2;\n",
              "      height: 32px;\n",
              "      padding: 0 0 0 0;\n",
              "      width: 32px;\n",
              "    }\n",
              "\n",
              "    .colab-df-convert:hover {\n",
              "      background-color: #E2EBFA;\n",
              "      box-shadow: 0px 1px 2px rgba(60, 64, 67, 0.3), 0px 1px 3px 1px rgba(60, 64, 67, 0.15);\n",
              "      fill: #174EA6;\n",
              "    }\n",
              "\n",
              "    .colab-df-buttons div {\n",
              "      margin-bottom: 4px;\n",
              "    }\n",
              "\n",
              "    [theme=dark] .colab-df-convert {\n",
              "      background-color: #3B4455;\n",
              "      fill: #D2E3FC;\n",
              "    }\n",
              "\n",
              "    [theme=dark] .colab-df-convert:hover {\n",
              "      background-color: #434B5C;\n",
              "      box-shadow: 0px 1px 3px 1px rgba(0, 0, 0, 0.15);\n",
              "      filter: drop-shadow(0px 1px 2px rgba(0, 0, 0, 0.3));\n",
              "      fill: #FFFFFF;\n",
              "    }\n",
              "  </style>\n",
              "\n",
              "    <script>\n",
              "      const buttonEl =\n",
              "        document.querySelector('#df-c4975837-ca0e-4903-9232-d596883027b2 button.colab-df-convert');\n",
              "      buttonEl.style.display =\n",
              "        google.colab.kernel.accessAllowed ? 'block' : 'none';\n",
              "\n",
              "      async function convertToInteractive(key) {\n",
              "        const element = document.querySelector('#df-c4975837-ca0e-4903-9232-d596883027b2');\n",
              "        const dataTable =\n",
              "          await google.colab.kernel.invokeFunction('convertToInteractive',\n",
              "                                                    [key], {});\n",
              "        if (!dataTable) return;\n",
              "\n",
              "        const docLinkHtml = 'Like what you see? Visit the ' +\n",
              "          '<a target=\"_blank\" href=https://colab.research.google.com/notebooks/data_table.ipynb>data table notebook</a>'\n",
              "          + ' to learn more about interactive tables.';\n",
              "        element.innerHTML = '';\n",
              "        dataTable['output_type'] = 'display_data';\n",
              "        await google.colab.output.renderOutput(dataTable, element);\n",
              "        const docLink = document.createElement('div');\n",
              "        docLink.innerHTML = docLinkHtml;\n",
              "        element.appendChild(docLink);\n",
              "      }\n",
              "    </script>\n",
              "  </div>\n",
              "\n",
              "\n",
              "<div id=\"df-9b63bb8c-f195-4bb2-a222-bfd0bc6a582d\">\n",
              "  <button class=\"colab-df-quickchart\" onclick=\"quickchart('df-9b63bb8c-f195-4bb2-a222-bfd0bc6a582d')\"\n",
              "            title=\"Suggest charts\"\n",
              "            style=\"display:none;\">\n",
              "\n",
              "<svg xmlns=\"http://www.w3.org/2000/svg\" height=\"24px\"viewBox=\"0 0 24 24\"\n",
              "     width=\"24px\">\n",
              "    <g>\n",
              "        <path d=\"M19 3H5c-1.1 0-2 .9-2 2v14c0 1.1.9 2 2 2h14c1.1 0 2-.9 2-2V5c0-1.1-.9-2-2-2zM9 17H7v-7h2v7zm4 0h-2V7h2v10zm4 0h-2v-4h2v4z\"/>\n",
              "    </g>\n",
              "</svg>\n",
              "  </button>\n",
              "\n",
              "<style>\n",
              "  .colab-df-quickchart {\n",
              "      --bg-color: #E8F0FE;\n",
              "      --fill-color: #1967D2;\n",
              "      --hover-bg-color: #E2EBFA;\n",
              "      --hover-fill-color: #174EA6;\n",
              "      --disabled-fill-color: #AAA;\n",
              "      --disabled-bg-color: #DDD;\n",
              "  }\n",
              "\n",
              "  [theme=dark] .colab-df-quickchart {\n",
              "      --bg-color: #3B4455;\n",
              "      --fill-color: #D2E3FC;\n",
              "      --hover-bg-color: #434B5C;\n",
              "      --hover-fill-color: #FFFFFF;\n",
              "      --disabled-bg-color: #3B4455;\n",
              "      --disabled-fill-color: #666;\n",
              "  }\n",
              "\n",
              "  .colab-df-quickchart {\n",
              "    background-color: var(--bg-color);\n",
              "    border: none;\n",
              "    border-radius: 50%;\n",
              "    cursor: pointer;\n",
              "    display: none;\n",
              "    fill: var(--fill-color);\n",
              "    height: 32px;\n",
              "    padding: 0;\n",
              "    width: 32px;\n",
              "  }\n",
              "\n",
              "  .colab-df-quickchart:hover {\n",
              "    background-color: var(--hover-bg-color);\n",
              "    box-shadow: 0 1px 2px rgba(60, 64, 67, 0.3), 0 1px 3px 1px rgba(60, 64, 67, 0.15);\n",
              "    fill: var(--button-hover-fill-color);\n",
              "  }\n",
              "\n",
              "  .colab-df-quickchart-complete:disabled,\n",
              "  .colab-df-quickchart-complete:disabled:hover {\n",
              "    background-color: var(--disabled-bg-color);\n",
              "    fill: var(--disabled-fill-color);\n",
              "    box-shadow: none;\n",
              "  }\n",
              "\n",
              "  .colab-df-spinner {\n",
              "    border: 2px solid var(--fill-color);\n",
              "    border-color: transparent;\n",
              "    border-bottom-color: var(--fill-color);\n",
              "    animation:\n",
              "      spin 1s steps(1) infinite;\n",
              "  }\n",
              "\n",
              "  @keyframes spin {\n",
              "    0% {\n",
              "      border-color: transparent;\n",
              "      border-bottom-color: var(--fill-color);\n",
              "      border-left-color: var(--fill-color);\n",
              "    }\n",
              "    20% {\n",
              "      border-color: transparent;\n",
              "      border-left-color: var(--fill-color);\n",
              "      border-top-color: var(--fill-color);\n",
              "    }\n",
              "    30% {\n",
              "      border-color: transparent;\n",
              "      border-left-color: var(--fill-color);\n",
              "      border-top-color: var(--fill-color);\n",
              "      border-right-color: var(--fill-color);\n",
              "    }\n",
              "    40% {\n",
              "      border-color: transparent;\n",
              "      border-right-color: var(--fill-color);\n",
              "      border-top-color: var(--fill-color);\n",
              "    }\n",
              "    60% {\n",
              "      border-color: transparent;\n",
              "      border-right-color: var(--fill-color);\n",
              "    }\n",
              "    80% {\n",
              "      border-color: transparent;\n",
              "      border-right-color: var(--fill-color);\n",
              "      border-bottom-color: var(--fill-color);\n",
              "    }\n",
              "    90% {\n",
              "      border-color: transparent;\n",
              "      border-bottom-color: var(--fill-color);\n",
              "    }\n",
              "  }\n",
              "</style>\n",
              "\n",
              "  <script>\n",
              "    async function quickchart(key) {\n",
              "      const quickchartButtonEl =\n",
              "        document.querySelector('#' + key + ' button');\n",
              "      quickchartButtonEl.disabled = true;  // To prevent multiple clicks.\n",
              "      quickchartButtonEl.classList.add('colab-df-spinner');\n",
              "      try {\n",
              "        const charts = await google.colab.kernel.invokeFunction(\n",
              "            'suggestCharts', [key], {});\n",
              "      } catch (error) {\n",
              "        console.error('Error during call to suggestCharts:', error);\n",
              "      }\n",
              "      quickchartButtonEl.classList.remove('colab-df-spinner');\n",
              "      quickchartButtonEl.classList.add('colab-df-quickchart-complete');\n",
              "    }\n",
              "    (() => {\n",
              "      let quickchartButtonEl =\n",
              "        document.querySelector('#df-9b63bb8c-f195-4bb2-a222-bfd0bc6a582d button');\n",
              "      quickchartButtonEl.style.display =\n",
              "        google.colab.kernel.accessAllowed ? 'block' : 'none';\n",
              "    })();\n",
              "  </script>\n",
              "</div>\n",
              "\n",
              "    </div>\n",
              "  </div>\n"
            ],
            "application/vnd.google.colaboratory.intrinsic+json": {
              "type": "dataframe",
              "variable_name": "df",
              "summary": "{\n  \"name\": \"df\",\n  \"rows\": 22000,\n  \"fields\": [\n    {\n      \"column\": \"job_title\",\n      \"properties\": {\n        \"dtype\": \"string\",\n        \"num_unique_values\": 18749,\n        \"samples\": [\n          \"Project Manager - Infrastructure Job in Fremont\",\n          \"Restoration Tech Job in Frederick\",\n          \"Assistant Operations Manager Trainee - Entry Level Job in Philadelphia\"\n        ],\n        \"semantic_type\": \"\",\n        \"description\": \"\"\n      }\n    },\n    {\n      \"column\": \"location\",\n      \"properties\": {\n        \"dtype\": \"category\",\n        \"num_unique_values\": 8423,\n        \"samples\": [\n          \"Casper, WY 82602\",\n          \"Monroeville, PA 15146\",\n          \"Technical Support Analyst\"\n        ],\n        \"semantic_type\": \"\",\n        \"description\": \"\"\n      }\n    },\n    {\n      \"column\": \"salary\",\n      \"properties\": {\n        \"dtype\": \"category\",\n        \"num_unique_values\": 1737,\n        \"samples\": [\n          \"95,000.00 - 125,000.00 $ /year\",\n          \"50.00 - 65.00 $ /year\",\n          \"40,000.00 - 55,000.00 $ /yearplus bonuses\"\n        ],\n        \"semantic_type\": \"\",\n        \"description\": \"\"\n      }\n    },\n    {\n      \"column\": \"sector\",\n      \"properties\": {\n        \"dtype\": \"category\",\n        \"num_unique_values\": 163,\n        \"samples\": [\n          \"Equipment Install/Maintain/RepairFacilities Management/MaintenanceGeneral/Other: Installation/Maintenance/Repair\",\n          \"General/Other: Project/Program Management\",\n          \"Software Quality Assurance\"\n        ],\n        \"semantic_type\": \"\",\n        \"description\": \"\"\n      }\n    }\n  ]\n}"
            }
          },
          "metadata": {},
          "execution_count": 13
        }
      ],
      "source": [
        "import pandas as pd\n",
        "\n",
        "df = pd.read_csv('/content/Job_data_project.csv')\n",
        "df.head()"
      ]
    },
    {
      "cell_type": "markdown",
      "source": [
        "# check the number of rows and columns"
      ],
      "metadata": {
        "id": "AAeNNkcbMxJE"
      }
    },
    {
      "cell_type": "code",
      "source": [
        "print(\"Rows and columns:\", df.shape)"
      ],
      "metadata": {
        "colab": {
          "base_uri": "https://localhost:8080/",
          "height": 0
        },
        "id": "WETexWD_MS4n",
        "outputId": "5a2c5f17-de92-4137-a0ca-62fc309f3298"
      },
      "execution_count": 14,
      "outputs": [
        {
          "output_type": "stream",
          "name": "stdout",
          "text": [
            "Rows and columns: (22000, 4)\n"
          ]
        }
      ]
    },
    {
      "cell_type": "markdown",
      "source": [
        "# check the column names"
      ],
      "metadata": {
        "id": "ULibCHKjM9qf"
      }
    },
    {
      "cell_type": "code",
      "source": [
        "print(\"\\ncolumn names:\")\n",
        "print(df.columns)"
      ],
      "metadata": {
        "colab": {
          "base_uri": "https://localhost:8080/",
          "height": 0
        },
        "id": "J6ZiEZT1MmYY",
        "outputId": "e9d4b5aa-51ec-4960-a91f-7d9d8c359e46"
      },
      "execution_count": 15,
      "outputs": [
        {
          "output_type": "stream",
          "name": "stdout",
          "text": [
            "\n",
            "column names:\n",
            "Index(['job_title', 'location', 'salary', 'sector'], dtype='object')\n"
          ]
        }
      ]
    },
    {
      "cell_type": "markdown",
      "source": [
        "# see how many missing values are in each column"
      ],
      "metadata": {
        "id": "g4gELyPONgE7"
      }
    },
    {
      "cell_type": "code",
      "source": [
        "print(\"\\nmissing values:\")\n",
        "print(df.isnull().sum())"
      ],
      "metadata": {
        "colab": {
          "base_uri": "https://localhost:8080/",
          "height": 0
        },
        "id": "yvgka61NNuqU",
        "outputId": "58913e20-2a06-46b4-df2d-e8593070048b"
      },
      "execution_count": 16,
      "outputs": [
        {
          "output_type": "stream",
          "name": "stdout",
          "text": [
            "\n",
            "missing values:\n",
            "job_title        0\n",
            "location         0\n",
            "salary       18554\n",
            "sector        5194\n",
            "dtype: int64\n"
          ]
        }
      ]
    },
    {
      "cell_type": "markdown",
      "source": [
        "# Create a new DataFrame without missing salary or sector"
      ],
      "metadata": {
        "id": "aADG7l2YON4q"
      }
    },
    {
      "cell_type": "code",
      "source": [
        "clean_df = df.dropna(subset=['salary', 'sector'])"
      ],
      "metadata": {
        "id": "nusYQkysOL4U"
      },
      "execution_count": 17,
      "outputs": []
    },
    {
      "cell_type": "markdown",
      "source": [
        "# show how many rows are left"
      ],
      "metadata": {
        "id": "LZLMzufOPqg4"
      }
    },
    {
      "cell_type": "code",
      "source": [
        "print(\"cleaned data size:\", clean_df.shape)"
      ],
      "metadata": {
        "colab": {
          "base_uri": "https://localhost:8080/",
          "height": 0
        },
        "id": "oCA5CcZEPo97",
        "outputId": "a31058bd-bc93-4011-c56c-7252b1de1e93"
      },
      "execution_count": 18,
      "outputs": [
        {
          "output_type": "stream",
          "name": "stdout",
          "text": [
            "cleaned data size: (2612, 4)\n"
          ]
        }
      ]
    },
    {
      "cell_type": "markdown",
      "source": [
        "# preview the cleaned data"
      ],
      "metadata": {
        "id": "J58vMZoHQht2"
      }
    },
    {
      "cell_type": "code",
      "source": [
        "clean_df.head()"
      ],
      "metadata": {
        "colab": {
          "base_uri": "https://localhost:8080/",
          "height": 275
        },
        "id": "sVFz5JT-QoK9",
        "outputId": "d26fffb3-5b6b-4596-c7d0-27439f0bdb5a"
      },
      "execution_count": 19,
      "outputs": [
        {
          "output_type": "execute_result",
          "data": {
            "text/plain": [
              "                                            job_title  \\\n",
              "13  Primrose Private Preschool Teacher Job in Houston   \n",
              "14                      Superintendent Job in Houston   \n",
              "19  Technician - Robot & Multi-Axis CNC Field Serv...   \n",
              "29                               Sr. Process Engineer   \n",
              "32  Machine Control Systems Engineer - BSEE Job in...   \n",
              "\n",
              "                               location                          salary  \\\n",
              "13                    Houston, TX 77098            9.00 - 13.00 $ /hour   \n",
              "14                          Houston, TX   80,000.00 - 95,000.00 $ /year   \n",
              "19                Carter Lake, IA 51510   60,000.00 - 72,000.00 $ /year   \n",
              "29  Sr. Process Engineer, Manufacturing  70,000.00 - 100,000.00 $ /year   \n",
              "32                     Aurora, IL 60502  75,000.00 - 100,000.00 $ /year   \n",
              "\n",
              "                                  sector  \n",
              "13                           Entry Level  \n",
              "14  Building Construction/Skilled Trades  \n",
              "19             Experienced (Non-Manager)  \n",
              "29                           Engineering  \n",
              "32             Experienced (Non-Manager)  "
            ],
            "text/html": [
              "\n",
              "  <div id=\"df-c6099d9b-d442-42d8-a936-28d33d42c0ac\" class=\"colab-df-container\">\n",
              "    <div>\n",
              "<style scoped>\n",
              "    .dataframe tbody tr th:only-of-type {\n",
              "        vertical-align: middle;\n",
              "    }\n",
              "\n",
              "    .dataframe tbody tr th {\n",
              "        vertical-align: top;\n",
              "    }\n",
              "\n",
              "    .dataframe thead th {\n",
              "        text-align: right;\n",
              "    }\n",
              "</style>\n",
              "<table border=\"1\" class=\"dataframe\">\n",
              "  <thead>\n",
              "    <tr style=\"text-align: right;\">\n",
              "      <th></th>\n",
              "      <th>job_title</th>\n",
              "      <th>location</th>\n",
              "      <th>salary</th>\n",
              "      <th>sector</th>\n",
              "    </tr>\n",
              "  </thead>\n",
              "  <tbody>\n",
              "    <tr>\n",
              "      <th>13</th>\n",
              "      <td>Primrose Private Preschool Teacher Job in Houston</td>\n",
              "      <td>Houston, TX 77098</td>\n",
              "      <td>9.00 - 13.00 $ /hour</td>\n",
              "      <td>Entry Level</td>\n",
              "    </tr>\n",
              "    <tr>\n",
              "      <th>14</th>\n",
              "      <td>Superintendent Job in Houston</td>\n",
              "      <td>Houston, TX</td>\n",
              "      <td>80,000.00 - 95,000.00 $ /year</td>\n",
              "      <td>Building Construction/Skilled Trades</td>\n",
              "    </tr>\n",
              "    <tr>\n",
              "      <th>19</th>\n",
              "      <td>Technician - Robot &amp; Multi-Axis CNC Field Serv...</td>\n",
              "      <td>Carter Lake, IA 51510</td>\n",
              "      <td>60,000.00 - 72,000.00 $ /year</td>\n",
              "      <td>Experienced (Non-Manager)</td>\n",
              "    </tr>\n",
              "    <tr>\n",
              "      <th>29</th>\n",
              "      <td>Sr. Process Engineer</td>\n",
              "      <td>Sr. Process Engineer, Manufacturing</td>\n",
              "      <td>70,000.00 - 100,000.00 $ /year</td>\n",
              "      <td>Engineering</td>\n",
              "    </tr>\n",
              "    <tr>\n",
              "      <th>32</th>\n",
              "      <td>Machine Control Systems Engineer - BSEE Job in...</td>\n",
              "      <td>Aurora, IL 60502</td>\n",
              "      <td>75,000.00 - 100,000.00 $ /year</td>\n",
              "      <td>Experienced (Non-Manager)</td>\n",
              "    </tr>\n",
              "  </tbody>\n",
              "</table>\n",
              "</div>\n",
              "    <div class=\"colab-df-buttons\">\n",
              "\n",
              "  <div class=\"colab-df-container\">\n",
              "    <button class=\"colab-df-convert\" onclick=\"convertToInteractive('df-c6099d9b-d442-42d8-a936-28d33d42c0ac')\"\n",
              "            title=\"Convert this dataframe to an interactive table.\"\n",
              "            style=\"display:none;\">\n",
              "\n",
              "  <svg xmlns=\"http://www.w3.org/2000/svg\" height=\"24px\" viewBox=\"0 -960 960 960\">\n",
              "    <path d=\"M120-120v-720h720v720H120Zm60-500h600v-160H180v160Zm220 220h160v-160H400v160Zm0 220h160v-160H400v160ZM180-400h160v-160H180v160Zm440 0h160v-160H620v160ZM180-180h160v-160H180v160Zm440 0h160v-160H620v160Z\"/>\n",
              "  </svg>\n",
              "    </button>\n",
              "\n",
              "  <style>\n",
              "    .colab-df-container {\n",
              "      display:flex;\n",
              "      gap: 12px;\n",
              "    }\n",
              "\n",
              "    .colab-df-convert {\n",
              "      background-color: #E8F0FE;\n",
              "      border: none;\n",
              "      border-radius: 50%;\n",
              "      cursor: pointer;\n",
              "      display: none;\n",
              "      fill: #1967D2;\n",
              "      height: 32px;\n",
              "      padding: 0 0 0 0;\n",
              "      width: 32px;\n",
              "    }\n",
              "\n",
              "    .colab-df-convert:hover {\n",
              "      background-color: #E2EBFA;\n",
              "      box-shadow: 0px 1px 2px rgba(60, 64, 67, 0.3), 0px 1px 3px 1px rgba(60, 64, 67, 0.15);\n",
              "      fill: #174EA6;\n",
              "    }\n",
              "\n",
              "    .colab-df-buttons div {\n",
              "      margin-bottom: 4px;\n",
              "    }\n",
              "\n",
              "    [theme=dark] .colab-df-convert {\n",
              "      background-color: #3B4455;\n",
              "      fill: #D2E3FC;\n",
              "    }\n",
              "\n",
              "    [theme=dark] .colab-df-convert:hover {\n",
              "      background-color: #434B5C;\n",
              "      box-shadow: 0px 1px 3px 1px rgba(0, 0, 0, 0.15);\n",
              "      filter: drop-shadow(0px 1px 2px rgba(0, 0, 0, 0.3));\n",
              "      fill: #FFFFFF;\n",
              "    }\n",
              "  </style>\n",
              "\n",
              "    <script>\n",
              "      const buttonEl =\n",
              "        document.querySelector('#df-c6099d9b-d442-42d8-a936-28d33d42c0ac button.colab-df-convert');\n",
              "      buttonEl.style.display =\n",
              "        google.colab.kernel.accessAllowed ? 'block' : 'none';\n",
              "\n",
              "      async function convertToInteractive(key) {\n",
              "        const element = document.querySelector('#df-c6099d9b-d442-42d8-a936-28d33d42c0ac');\n",
              "        const dataTable =\n",
              "          await google.colab.kernel.invokeFunction('convertToInteractive',\n",
              "                                                    [key], {});\n",
              "        if (!dataTable) return;\n",
              "\n",
              "        const docLinkHtml = 'Like what you see? Visit the ' +\n",
              "          '<a target=\"_blank\" href=https://colab.research.google.com/notebooks/data_table.ipynb>data table notebook</a>'\n",
              "          + ' to learn more about interactive tables.';\n",
              "        element.innerHTML = '';\n",
              "        dataTable['output_type'] = 'display_data';\n",
              "        await google.colab.output.renderOutput(dataTable, element);\n",
              "        const docLink = document.createElement('div');\n",
              "        docLink.innerHTML = docLinkHtml;\n",
              "        element.appendChild(docLink);\n",
              "      }\n",
              "    </script>\n",
              "  </div>\n",
              "\n",
              "\n",
              "<div id=\"df-3340b253-3cd4-4fd3-88a4-cf2a69b78ed0\">\n",
              "  <button class=\"colab-df-quickchart\" onclick=\"quickchart('df-3340b253-3cd4-4fd3-88a4-cf2a69b78ed0')\"\n",
              "            title=\"Suggest charts\"\n",
              "            style=\"display:none;\">\n",
              "\n",
              "<svg xmlns=\"http://www.w3.org/2000/svg\" height=\"24px\"viewBox=\"0 0 24 24\"\n",
              "     width=\"24px\">\n",
              "    <g>\n",
              "        <path d=\"M19 3H5c-1.1 0-2 .9-2 2v14c0 1.1.9 2 2 2h14c1.1 0 2-.9 2-2V5c0-1.1-.9-2-2-2zM9 17H7v-7h2v7zm4 0h-2V7h2v10zm4 0h-2v-4h2v4z\"/>\n",
              "    </g>\n",
              "</svg>\n",
              "  </button>\n",
              "\n",
              "<style>\n",
              "  .colab-df-quickchart {\n",
              "      --bg-color: #E8F0FE;\n",
              "      --fill-color: #1967D2;\n",
              "      --hover-bg-color: #E2EBFA;\n",
              "      --hover-fill-color: #174EA6;\n",
              "      --disabled-fill-color: #AAA;\n",
              "      --disabled-bg-color: #DDD;\n",
              "  }\n",
              "\n",
              "  [theme=dark] .colab-df-quickchart {\n",
              "      --bg-color: #3B4455;\n",
              "      --fill-color: #D2E3FC;\n",
              "      --hover-bg-color: #434B5C;\n",
              "      --hover-fill-color: #FFFFFF;\n",
              "      --disabled-bg-color: #3B4455;\n",
              "      --disabled-fill-color: #666;\n",
              "  }\n",
              "\n",
              "  .colab-df-quickchart {\n",
              "    background-color: var(--bg-color);\n",
              "    border: none;\n",
              "    border-radius: 50%;\n",
              "    cursor: pointer;\n",
              "    display: none;\n",
              "    fill: var(--fill-color);\n",
              "    height: 32px;\n",
              "    padding: 0;\n",
              "    width: 32px;\n",
              "  }\n",
              "\n",
              "  .colab-df-quickchart:hover {\n",
              "    background-color: var(--hover-bg-color);\n",
              "    box-shadow: 0 1px 2px rgba(60, 64, 67, 0.3), 0 1px 3px 1px rgba(60, 64, 67, 0.15);\n",
              "    fill: var(--button-hover-fill-color);\n",
              "  }\n",
              "\n",
              "  .colab-df-quickchart-complete:disabled,\n",
              "  .colab-df-quickchart-complete:disabled:hover {\n",
              "    background-color: var(--disabled-bg-color);\n",
              "    fill: var(--disabled-fill-color);\n",
              "    box-shadow: none;\n",
              "  }\n",
              "\n",
              "  .colab-df-spinner {\n",
              "    border: 2px solid var(--fill-color);\n",
              "    border-color: transparent;\n",
              "    border-bottom-color: var(--fill-color);\n",
              "    animation:\n",
              "      spin 1s steps(1) infinite;\n",
              "  }\n",
              "\n",
              "  @keyframes spin {\n",
              "    0% {\n",
              "      border-color: transparent;\n",
              "      border-bottom-color: var(--fill-color);\n",
              "      border-left-color: var(--fill-color);\n",
              "    }\n",
              "    20% {\n",
              "      border-color: transparent;\n",
              "      border-left-color: var(--fill-color);\n",
              "      border-top-color: var(--fill-color);\n",
              "    }\n",
              "    30% {\n",
              "      border-color: transparent;\n",
              "      border-left-color: var(--fill-color);\n",
              "      border-top-color: var(--fill-color);\n",
              "      border-right-color: var(--fill-color);\n",
              "    }\n",
              "    40% {\n",
              "      border-color: transparent;\n",
              "      border-right-color: var(--fill-color);\n",
              "      border-top-color: var(--fill-color);\n",
              "    }\n",
              "    60% {\n",
              "      border-color: transparent;\n",
              "      border-right-color: var(--fill-color);\n",
              "    }\n",
              "    80% {\n",
              "      border-color: transparent;\n",
              "      border-right-color: var(--fill-color);\n",
              "      border-bottom-color: var(--fill-color);\n",
              "    }\n",
              "    90% {\n",
              "      border-color: transparent;\n",
              "      border-bottom-color: var(--fill-color);\n",
              "    }\n",
              "  }\n",
              "</style>\n",
              "\n",
              "  <script>\n",
              "    async function quickchart(key) {\n",
              "      const quickchartButtonEl =\n",
              "        document.querySelector('#' + key + ' button');\n",
              "      quickchartButtonEl.disabled = true;  // To prevent multiple clicks.\n",
              "      quickchartButtonEl.classList.add('colab-df-spinner');\n",
              "      try {\n",
              "        const charts = await google.colab.kernel.invokeFunction(\n",
              "            'suggestCharts', [key], {});\n",
              "      } catch (error) {\n",
              "        console.error('Error during call to suggestCharts:', error);\n",
              "      }\n",
              "      quickchartButtonEl.classList.remove('colab-df-spinner');\n",
              "      quickchartButtonEl.classList.add('colab-df-quickchart-complete');\n",
              "    }\n",
              "    (() => {\n",
              "      let quickchartButtonEl =\n",
              "        document.querySelector('#df-3340b253-3cd4-4fd3-88a4-cf2a69b78ed0 button');\n",
              "      quickchartButtonEl.style.display =\n",
              "        google.colab.kernel.accessAllowed ? 'block' : 'none';\n",
              "    })();\n",
              "  </script>\n",
              "</div>\n",
              "\n",
              "    </div>\n",
              "  </div>\n"
            ],
            "application/vnd.google.colaboratory.intrinsic+json": {
              "type": "dataframe",
              "variable_name": "clean_df",
              "summary": "{\n  \"name\": \"clean_df\",\n  \"rows\": 2612,\n  \"fields\": [\n    {\n      \"column\": \"job_title\",\n      \"properties\": {\n        \"dtype\": \"string\",\n        \"num_unique_values\": 2414,\n        \"samples\": [\n          \"Heart Institute Director Job in San Francisco\",\n          \"Bookkeeper Job in Chicago\",\n          \"Bakery Manager Job in Palo Alto\"\n        ],\n        \"semantic_type\": \"\",\n        \"description\": \"\"\n      }\n    },\n    {\n      \"column\": \"location\",\n      \"properties\": {\n        \"dtype\": \"string\",\n        \"num_unique_values\": 1471,\n        \"samples\": [\n          \"Chicago, IL 60602\",\n          \"Knoxville, TN 37923\",\n          \"Jackson, MS 39201\"\n        ],\n        \"semantic_type\": \"\",\n        \"description\": \"\"\n      }\n    },\n    {\n      \"column\": \"salary\",\n      \"properties\": {\n        \"dtype\": \"string\",\n        \"num_unique_values\": 1425,\n        \"samples\": [\n          \"45,000.00 - 50,000.00 $ /yearmonthly car allowance\",\n          \"40,000.00 - 80,000.00 $ /year\",\n          \"$25,000.00+ /yearCommission\"\n        ],\n        \"semantic_type\": \"\",\n        \"description\": \"\"\n      }\n    },\n    {\n      \"column\": \"sector\",\n      \"properties\": {\n        \"dtype\": \"category\",\n        \"num_unique_values\": 53,\n        \"samples\": [\n          \"General/Other: Food Services\",\n          \"Student (Undergraduate/Graduate)\",\n          \"General/Other: Project/Program ManagementProgram Management\"\n        ],\n        \"semantic_type\": \"\",\n        \"description\": \"\"\n      }\n    }\n  ]\n}"
            }
          },
          "metadata": {},
          "execution_count": 19
        }
      ]
    },
    {
      "cell_type": "markdown",
      "source": [
        "**Visualize most common job sectors**"
      ],
      "metadata": {
        "id": "YxyQe_XeUCMT"
      }
    },
    {
      "cell_type": "code",
      "source": [
        "import matplotlib.pyplot as plt"
      ],
      "metadata": {
        "id": "twk-dzdVRNA1"
      },
      "execution_count": 20,
      "outputs": []
    },
    {
      "cell_type": "markdown",
      "source": [
        "# count job listings by sector"
      ],
      "metadata": {
        "id": "myazELBQU-t-"
      }
    },
    {
      "cell_type": "code",
      "source": [
        "sector_counts = clean_df['sector'].value_counts().head(10)"
      ],
      "metadata": {
        "id": "8L039xTvVdVE"
      },
      "execution_count": 21,
      "outputs": []
    },
    {
      "cell_type": "markdown",
      "source": [
        "# Plot the top 10 sectors"
      ],
      "metadata": {
        "id": "OLZCa_XjW1fm"
      }
    },
    {
      "cell_type": "code",
      "source": [
        "plt.figure(figsize=(10,6))\n",
        "sector_counts.plot(kind='bar', color='skyblue')\n",
        "plt.title('Top 10 Job Sectors')\n",
        "plt.xlabel('Sector')\n",
        "plt.ylabel('Number of Jobs')\n",
        "plt.xticks(rotation=45)\n",
        "plt.grid(axis='y', linestyle='--')\n",
        "plt.tight_layout()\n",
        "plt.show()"
      ],
      "metadata": {
        "colab": {
          "base_uri": "https://localhost:8080/",
          "height": 607
        },
        "id": "CgUNwL3AW-ve",
        "outputId": "18370895-88dd-466b-8bc1-cae15c48d71a"
      },
      "execution_count": 22,
      "outputs": [
        {
          "output_type": "display_data",
          "data": {
            "text/plain": [
              "<Figure size 1000x600 with 1 Axes>"
            ],
            "image/png": "[encoded data removed]"
          },
          "metadata": {}
        }
      ]
    },
    {
      "cell_type": "markdown",
      "source": [
        "# **Visualize most common job titles**"
      ],
      "metadata": {
        "id": "4oR5vzatm2k4"
      }
    },
    {
      "cell_type": "code",
      "source": [
        "import matplotlib.pyplot as plt"
      ],
      "metadata": {
        "id": "7L4Sa2OtsIuu"
      },
      "execution_count": 29,
      "outputs": []
    },
    {
      "cell_type": "markdown",
      "source": [
        "# count most common job titles"
      ],
      "metadata": {
        "id": "aH1DumbZnLhE"
      }
    },
    {
      "cell_type": "code",
      "source": [
        "job_counts = clean_df['job_title'].value_counts().head(10)"
      ],
      "metadata": {
        "id": "tFCtFK4AnVcV"
      },
      "execution_count": 30,
      "outputs": []
    },
    {
      "cell_type": "markdown",
      "source": [
        "# plot the top 10 job titles"
      ],
      "metadata": {
        "id": "zqD3NjnGoI6Z"
      }
    },
    {
      "cell_type": "code",
      "source": [
        "plt.figure(figsize=(10,6))\n",
        "job_counts.plot(kind='bar', color='orange')\n",
        "plt.title('Top 10 Job Titles')\n",
        "plt.xlabel('Job Title')\n",
        "plt.ylabel('Number of Listings')\n",
        "plt.xticks(rotation=75)\n",
        "plt.grid(axis='y', linestyle='--')\n",
        "plt.tight_layout()\n",
        "plt.show()"
      ],
      "metadata": {
        "colab": {
          "base_uri": "https://localhost:8080/",
          "height": 607
        },
        "id": "dLCD_NMcoQ-v",
        "outputId": "58de1238-160d-4172-fa34-a6b303de16e6"
      },
      "execution_count": 34,
      "outputs": [
        {
          "output_type": "display_data",
          "data": {
            "text/plain": [
              "<Figure size 1000x600 with 1 Axes>"
            ],
            "image/png": "[encoded data removed]"
          },
          "metadata": {}
        }
      ]
    },
    {
      "cell_type": "markdown",
      "source": [
        "**Analyze Salary Data**"
      ],
      "metadata": {
        "id": "6kHjkSP2xTWL"
      }
    },
    {
      "cell_type": "markdown",
      "source": [
        "let's check if we can work with the salary column (it might have text like $60,000 - $80,000 /year). We'll first look at what kind of data it has."
      ],
      "metadata": {
        "id": "KzbvDltHxqSU"
      }
    },
    {
      "cell_type": "markdown",
      "source": [
        "# Show 10 sample salary values"
      ],
      "metadata": {
        "id": "kT6fW9J1yNhv"
      }
    },
    {
      "cell_type": "code",
      "source": [
        "clean_df['salary'].head(10)"
      ],
      "metadata": {
        "colab": {
          "base_uri": "https://localhost:8080/",
          "height": 397
        },
        "id": "36YWETppyWH-",
        "outputId": "fafcf921-238e-4282-dd91-1c6133b00e2b"
      },
      "execution_count": 35,
      "outputs": [
        {
          "output_type": "execute_result",
          "data": {
            "text/plain": [
              "13                                 9.00 - 13.00 $ /hour\n",
              "14                        80,000.00 - 95,000.00 $ /year\n",
              "19                        60,000.00 - 72,000.00 $ /year\n",
              "29                       70,000.00 - 100,000.00 $ /year\n",
              "32                       75,000.00 - 100,000.00 $ /year\n",
              "36                        68,000.00 - 72,000.00 $ /year\n",
              "41                        58,000.00 - 65,000.00 $ /year\n",
              "42                                      Up to $32000.00\n",
              "58                              Salary, plus commission\n",
              "61    45,000.00 - 100,000.00 $ /yearBonus, Benefits,...\n",
              "Name: salary, dtype: object"
            ],
            "text/html": [
              "<div>\n",
              "<style scoped>\n",
              "    .dataframe tbody tr th:only-of-type {\n",
              "        vertical-align: middle;\n",
              "    }\n",
              "\n",
              "    .dataframe tbody tr th {\n",
              "        vertical-align: top;\n",
              "    }\n",
              "\n",
              "    .dataframe thead th {\n",
              "        text-align: right;\n",
              "    }\n",
              "</style>\n",
              "<table border=\"1\" class=\"dataframe\">\n",
              "  <thead>\n",
              "    <tr style=\"text-align: right;\">\n",
              "      <th></th>\n",
              "      <th>salary</th>\n",
              "    </tr>\n",
              "  </thead>\n",
              "  <tbody>\n",
              "    <tr>\n",
              "      <th>13</th>\n",
              "      <td>9.00 - 13.00 $ /hour</td>\n",
              "    </tr>\n",
              "    <tr>\n",
              "      <th>14</th>\n",
              "      <td>80,000.00 - 95,000.00 $ /year</td>\n",
              "    </tr>\n",
              "    <tr>\n",
              "      <th>19</th>\n",
              "      <td>60,000.00 - 72,000.00 $ /year</td>\n",
              "    </tr>\n",
              "    <tr>\n",
              "      <th>29</th>\n",
              "      <td>70,000.00 - 100,000.00 $ /year</td>\n",
              "    </tr>\n",
              "    <tr>\n",
              "      <th>32</th>\n",
              "      <td>75,000.00 - 100,000.00 $ /year</td>\n",
              "    </tr>\n",
              "    <tr>\n",
              "      <th>36</th>\n",
              "      <td>68,000.00 - 72,000.00 $ /year</td>\n",
              "    </tr>\n",
              "    <tr>\n",
              "      <th>41</th>\n",
              "      <td>58,000.00 - 65,000.00 $ /year</td>\n",
              "    </tr>\n",
              "    <tr>\n",
              "      <th>42</th>\n",
              "      <td>Up to $32000.00</td>\n",
              "    </tr>\n",
              "    <tr>\n",
              "      <th>58</th>\n",
              "      <td>Salary, plus commission</td>\n",
              "    </tr>\n",
              "    <tr>\n",
              "      <th>61</th>\n",
              "      <td>45,000.00 - 100,000.00 $ /yearBonus, Benefits,...</td>\n",
              "    </tr>\n",
              "  </tbody>\n",
              "</table>\n",
              "</div><br><label><b>dtype:</b> object</label>"
            ]
          },
          "metadata": {},
          "execution_count": 35
        }
      ]
    },
    {
      "cell_type": "markdown",
      "source": [
        "# Check Salary Data Format"
      ],
      "metadata": {
        "id": "F4rCpDckzNXN"
      }
    },
    {
      "cell_type": "markdown",
      "source": [
        "# Show 10 random salary values"
      ],
      "metadata": {
        "id": "HRa29aDzzWXW"
      }
    },
    {
      "cell_type": "code",
      "source": [
        "clean_df['salary'].sample(10)"
      ],
      "metadata": {
        "colab": {
          "base_uri": "https://localhost:8080/",
          "height": 397
        },
        "id": "6uhpTf7kzoBN",
        "outputId": "02d8c41e-9116-499d-c6f4-49a485d8124d"
      },
      "execution_count": 38,
      "outputs": [
        {
          "output_type": "execute_result",
          "data": {
            "text/plain": [
              "4861                       42,000.00 - 45,000.00 $ /year\n",
              "17417                                       16.00+ /hour\n",
              "903                                16.00 - 18.00 $ /hour\n",
              "15852                      70,000.00 - 90,000.00 $ /year\n",
              "13104                                    competitive pay\n",
              "5737     10.00 - 20.00 $ /hourHealth insurance available\n",
              "21814                     70,000.00 - 110,000.00 $ /year\n",
              "13814                              11.00 - 16.00 $ /hour\n",
              "10605                     95,000.00 - 100,000.00 $ /year\n",
              "4834                      82,064.00 - 106,683.00 $ /year\n",
              "Name: salary, dtype: object"
            ],
            "text/html": [
              "<div>\n",
              "<style scoped>\n",
              "    .dataframe tbody tr th:only-of-type {\n",
              "        vertical-align: middle;\n",
              "    }\n",
              "\n",
              "    .dataframe tbody tr th {\n",
              "        vertical-align: top;\n",
              "    }\n",
              "\n",
              "    .dataframe thead th {\n",
              "        text-align: right;\n",
              "    }\n",
              "</style>\n",
              "<table border=\"1\" class=\"dataframe\">\n",
              "  <thead>\n",
              "    <tr style=\"text-align: right;\">\n",
              "      <th></th>\n",
              "      <th>salary</th>\n",
              "    </tr>\n",
              "  </thead>\n",
              "  <tbody>\n",
              "    <tr>\n",
              "      <th>4861</th>\n",
              "      <td>42,000.00 - 45,000.00 $ /year</td>\n",
              "    </tr>\n",
              "    <tr>\n",
              "      <th>17417</th>\n",
              "      <td>16.00+ /hour</td>\n",
              "    </tr>\n",
              "    <tr>\n",
              "      <th>903</th>\n",
              "      <td>16.00 - 18.00 $ /hour</td>\n",
              "    </tr>\n",
              "    <tr>\n",
              "      <th>15852</th>\n",
              "      <td>70,000.00 - 90,000.00 $ /year</td>\n",
              "    </tr>\n",
              "    <tr>\n",
              "      <th>13104</th>\n",
              "      <td>competitive pay</td>\n",
              "    </tr>\n",
              "    <tr>\n",
              "      <th>5737</th>\n",
              "      <td>10.00 - 20.00 $ /hourHealth insurance available</td>\n",
              "    </tr>\n",
              "    <tr>\n",
              "      <th>21814</th>\n",
              "      <td>70,000.00 - 110,000.00 $ /year</td>\n",
              "    </tr>\n",
              "    <tr>\n",
              "      <th>13814</th>\n",
              "      <td>11.00 - 16.00 $ /hour</td>\n",
              "    </tr>\n",
              "    <tr>\n",
              "      <th>10605</th>\n",
              "      <td>95,000.00 - 100,000.00 $ /year</td>\n",
              "    </tr>\n",
              "    <tr>\n",
              "      <th>4834</th>\n",
              "      <td>82,064.00 - 106,683.00 $ /year</td>\n",
              "    </tr>\n",
              "  </tbody>\n",
              "</table>\n",
              "</div><br><label><b>dtype:</b> object</label>"
            ]
          },
          "metadata": {},
          "execution_count": 38
        }
      ]
    },
    {
      "cell_type": "markdown",
      "source": [
        "------"
      ],
      "metadata": {
        "id": "dFUqEfp88ZxL"
      }
    },
    {
      "cell_type": "markdown",
      "source": [
        "# Save a cleaned data to a CSV file"
      ],
      "metadata": {
        "id": "tQn4G4FrB4qu"
      }
    },
    {
      "cell_type": "code",
      "source": [
        "clean_df.to_csv('cleaned_job_data.csv', index=False)"
      ],
      "metadata": {
        "id": "rgIqaGQRB23Q"
      },
      "execution_count": 39,
      "outputs": []
    },
    {
      "cell_type": "markdown",
      "source": [
        "# Download it to your computer"
      ],
      "metadata": {
        "id": "Y_59Pl_JCO8v"
      }
    },
    {
      "cell_type": "code",
      "source": [
        "from google.colab import files\n",
        "files.download('cleaned_job_data.csv')"
      ],
      "metadata": {
        "colab": {
          "base_uri": "https://localhost:8080/",
          "height": 17
        },
        "id": "90bLuS5BCW8t",
        "outputId": "71d504a5-6af6-4158-cd48-bbe6f2b4b21d"
      },
      "execution_count": 40,
      "outputs": [
        {
          "output_type": "display_data",
          "data": {
            "text/plain": [
              "<IPython.core.display.Javascript object>"
            ],
            "application/javascript": [
              "\n",
              "    async function download(id, filename, size) {\n",
              "      if (!google.colab.kernel.accessAllowed) {\n",
              "        return;\n",
              "      }\n",
              "      const div = document.createElement('div');\n",
              "      const label = document.createElement('label');\n",
              "      label.textContent = `Downloading \"${filename}\": `;\n",
              "      div.appendChild(label);\n",
              "      const progress = document.createElement('progress');\n",
              "      progress.max = size;\n",
              "      div.appendChild(progress);\n",
              "      document.body.appendChild(div);\n",
              "\n",
              "      const buffers = [];\n",
              "      let downloaded = 0;\n",
              "\n",
              "      const channel = await google.colab.kernel.comms.open(id);\n",
              "      // Send a message to notify the kernel that we're ready.\n",
              "      channel.send({})\n",
              "\n",
              "      for await (const message of channel.messages) {\n",
              "        // Send a message to notify the kernel that we're ready.\n",
              "        channel.send({})\n",
              "        if (message.buffers) {\n",
              "          for (const buffer of message.buffers) {\n",
              "            buffers.push(buffer);\n",
              "            downloaded += buffer.byteLength;\n",
              "            progress.value = downloaded;\n",
              "          }\n",
              "        }\n",
              "      }\n",
              "      const blob = new Blob(buffers, {type: 'application/binary'});\n",
              "      const a = document.createElement('a');\n",
              "      a.href = window.URL.createObjectURL(blob);\n",
              "      a.download = filename;\n",
              "      div.appendChild(a);\n",
              "      a.click();\n",
              "      div.remove();\n",
              "    }\n",
              "  "
            ]
          },
          "metadata": {}
        },
        {
          "output_type": "display_data",
          "data": {
            "text/plain": [
              "<IPython.core.display.Javascript object>"
            ],
            "application/javascript": [
              "download(\"download_8937e8c7-5ee7-4353-823d-eda0f50176e2\", \"cleaned_job_data.csv\", 373730)"
            ]
          },
          "metadata": {}
        }
      ]
    },
    {
      "cell_type": "markdown",
      "source": [
        "# **Summary**\n",
        "# and **Description of the Project**"
      ],
      "metadata": {
        "id": "A3dyH6Dw9MoU"
      }
    },
    {
      "cell_type": "markdown",
      "source": [
        "# Job Market Analysis Using Python\n",
        "\n",
        "*By Jannath Syed*\n",
        "\n",
        "---\n",
        "\n",
        "### Objective:\n",
        "To analyze a dataset of 22,000+ U.S. job listings, identify trends in job titles and sectors, and build insights using Python and Excel.\n",
        "\n",
        "---\n",
        "\n",
        "### Tools Used:\n",
        "- Python (Pandas, Matplotlib)\n",
        "- Google Colab\n",
        "- Excel (for initial filtering)\n",
        "- GitHub (for version control)\n",
        "- CSV data from Kaggle\n",
        "\n",
        "---\n",
        "\n",
        "### Steps Taken:\n",
        "- Downloaded a real-world job listings dataset from Kaggle\n",
        "- Opened and explored the data using Excel\n",
        "- Cleaned the dataset by removing rows with missing salary and sector values\n",
        "- Analyzed the structure and contents of the dataset using Python\n",
        "- Visualized:\n",
        "  - Top 10 most common *job titles*\n",
        "  - Top 10 most common *job sectors*\n",
        "- Investigated the salary column and explained why it could not be analyzed due to inconsistent formatting\n",
        "- Exported a cleaned version of the dataset into a new CSV file\n",
        "\n",
        "---\n",
        "\n",
        "### Key Insights:\n",
        "- The most common sectors included *IT/Software Development, **Project Management, and **Engineering*\n",
        "- Popular job titles included *Data Analyst, **Business Analyst, and **Project Manager*\n",
        "- Only 2,600 out of 22,000 job records had valid salary and sector data\n",
        "\n",
        "---\n",
        "\n",
        "### Outcome:\n",
        "This project helped build foundational skills in:\n",
        "- Real-world data cleaning\n",
        "- Exploratory data analysis\n",
        "- Visualizing insights with Python\n",
        "- Communicating findings clearly"
      ],
      "metadata": {
        "id": "44jod2jr1IVD"
      }
    },
    {
      "cell_type": "markdown",
      "source": [],
      "metadata": {
        "id": "jZyex9Sl8y4C"
      }
    }
  ]
}